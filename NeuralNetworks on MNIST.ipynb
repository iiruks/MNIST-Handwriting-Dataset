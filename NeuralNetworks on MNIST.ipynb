{
 "cells": [
  {
   "cell_type": "markdown",
   "id": "ba85fae1",
   "metadata": {},
   "source": [
    "\n",
    "# Step 1 Data Acquisition and Visualization: In this step, you need to:\n",
    "(a) Download the “MNIST” dataset and extract the files. You will get four files with\n",
    "extension .gz (e.g., train-images-idx3-ubyte.gz). You can use the provided function read_idx\n",
    "below to read in the dataset. As its official description, the dataset is split into 60000 training\n",
    "images and 10000 images. The four file corresponds to the training images, training labels,\n",
    "testing images and testing labels. You need to print out their shape to finish this step. (5 pts)"
   ]
  },
  {
   "cell_type": "code",
   "execution_count": 1,
   "id": "e96efb09",
   "metadata": {},
   "outputs": [
    {
     "name": "stdout",
     "output_type": "stream",
     "text": [
      "Train images shape: (60000, 28, 28)\n",
      "Train labels shape: (60000,)\n",
      "Test images shape: (10000, 28, 28)\n",
      "Test labels shape: (10000,)\n"
     ]
    }
   ],
   "source": [
    "import gzip\n",
    "import numpy as np\n",
    "import requests\n",
    "import struct\n",
    "\n",
    "def read_idx(filename):\n",
    "    with gzip.open(filename, 'rb') as f:\n",
    "        zero, data_type, dims = struct.unpack('>HBB', f.read(4))\n",
    "        shape = tuple(struct.unpack('>I', f.read(4))[0] for _ in range(dims))\n",
    "        return np.frombuffer(f.read(), dtype=np.uint8).reshape(shape)\n",
    "\n",
    "url = 'http://yann.lecun.com/exdb/mnist/'\n",
    "file_names = ['train-images-idx3-ubyte.gz', 'train-labels-idx1-ubyte.gz', \n",
    "              't10k-images-idx3-ubyte.gz', 't10k-labels-idx1-ubyte.gz']\n",
    "\n",
    "for file_name in file_names:\n",
    "    r = requests.get(url + file_name)\n",
    "    with open(file_name, 'wb') as f:\n",
    "        f.write(r.content)\n",
    "        \n",
    "train_images = read_idx(file_names[0])\n",
    "train_labels = read_idx(file_names[1])\n",
    "test_images = read_idx(file_names[2])\n",
    "test_labels = read_idx(file_names[3])\n",
    "\n",
    "print(\"Train images shape:\", train_images.shape)\n",
    "print(\"Train labels shape:\", train_labels.shape) \n",
    "print(\"Test images shape:\", test_images.shape)\n",
    "print(\"Test labels shape:\", test_labels.shape)"
   ]
  },
  {
   "cell_type": "markdown",
   "id": "1383448d",
   "metadata": {},
   "source": [
    "(b) To further understand what the dataset is, you need to use the ‘matplotlib’ library to\n",
    "print out a random data with code plt.imshow together with its label.(5 pts)"
   ]
  },
  {
   "cell_type": "code",
   "execution_count": 2,
   "id": "4a3e8490",
   "metadata": {},
   "outputs": [
    {
     "name": "stdout",
     "output_type": "stream",
     "text": [
      "Label:  7\n"
     ]
    },
    {
     "data": {
      "image/png": "[encoded data removed]",
      "text/plain": [
       "<Figure size 640x480 with 1 Axes>"
      ]
     },
     "metadata": {},
     "output_type": "display_data"
    }
   ],
   "source": [
    "import matplotlib.pyplot as plt\n",
    "\n",
    "# Select a random index\n",
    "idx = np.random.randint(0, len(train_images))\n",
    "\n",
    "# Print out the label\n",
    "print(\"Label: \", train_labels[idx]) \n",
    "\n",
    "# Reshape the 784 pixel vector to a 28x28 image\n",
    "img = train_images[idx].reshape(28,28)\n",
    "\n",
    "# Plot the image\n",
    "plt.imshow(img, cmap='gray')\n",
    "plt.title(\"Label: {}\".format(train_labels[idx]))\n",
    "plt.show()"
   ]
  },
  {
   "cell_type": "markdown",
   "id": "08d1f258",
   "metadata": {},
   "source": [
    "# Step 2 Data Preprocessing: In this step, you need to:\n",
    "(a) Normalize the pixel values of images to be between 0 and 1. (5 pts)\n",
    "(b) Convert the labels from categorical data into numerical values using one-hot encoding.\n",
    "(5 pts) hint: you can explore the eye function in Numpy."
   ]
  },
  {
   "cell_type": "code",
   "execution_count": 3,
   "id": "1e1197c9",
   "metadata": {},
   "outputs": [
    {
     "name": "stdout",
     "output_type": "stream",
     "text": [
      "Normalized train images shape: (60000, 28, 28)\n",
      "One-hot encoded train labels shape: (60000, 10)\n",
      "Normalized test images shape: (10000, 28, 28)\n",
      "One-hot encoded test labels shape: (10000, 10)\n"
     ]
    }
   ],
   "source": [
    "import numpy as np\n",
    "\n",
    "# Normalize images\n",
    "train_images = train_images / 255.0\n",
    "test_images = test_images / 255.0\n",
    "\n",
    "# One-hot encode the labels\n",
    "num_classes = 10\n",
    "train_labels_one_hot = np.eye(num_classes)[train_labels] \n",
    "test_labels_one_hot = np.eye(num_classes)[test_labels]\n",
    "\n",
    "print(\"Normalized train images shape:\", train_images.shape)\n",
    "print(\"One-hot encoded train labels shape:\", train_labels_one_hot.shape)\n",
    "\n",
    "print(\"Normalized test images shape:\", test_images.shape)  \n",
    "print(\"One-hot encoded test labels shape:\", test_labels_one_hot.shape)"
   ]
  },
  {
   "cell_type": "markdown",
   "id": "9587a5a0",
   "metadata": {},
   "source": [
    "# Step 3 Network Initialization: We will work with a neuron network with two hidden layers, using Sigmoid function as the activation functions for hidden layers and softmax activation function for the output layer. To finish this, you need to:\n",
    "(a) Identify the auxiliary input including the Sigmoid function and its derivative and\n",
    "Softmax function (5 pts)\n",
    "(b) Initialize all the parameters in neural network uniformly. In this network, the input size\n",
    "is 784 dimensions (each input is a 28x28 image, so you have to flatten the data from 2D to 1D). For the two linear hidden layers, we have 128 and 64 neurons respectively. For\n",
    "the output layer, its size will be 10 since there are 10 classes (0-9) in MNIST. To finish\n",
    "this step, you need to initialize the weights and bias in random with a pre-set random\n",
    "seed using Numpy. Please set the seed value = 695. "
   ]
  },
  {
   "cell_type": "code",
   "execution_count": 4,
   "id": "23494d16",
   "metadata": {},
   "outputs": [],
   "source": [
    "import numpy as np\n",
    "\n",
    "def sigmoid(x):\n",
    "    return 1 / (1 + np.exp(-x))\n",
    "\n",
    "def sigmoid_derivative(x):\n",
    "    return sigmoid(x) * (1 - sigmoid(x))\n",
    "\n",
    "def softmax(x):\n",
    "    e_x = np.exp(x - np.max(x))\n",
    "    return e_x / e_x.sum(axis=0)\n",
    "\n",
    "def softmax_derivative(x):\n",
    "    s = softmax(x)\n",
    "    return s * (1 - s)"
   ]
  },
  {
   "cell_type": "code",
   "execution_count": 5,
   "id": "b6bdc96e",
   "metadata": {},
   "outputs": [],
   "source": [
    "import numpy as np\n",
    "\n",
    "np.random.seed(695) \n",
    "\n",
    "input_size = 784 # 28x28 images\n",
    "hidden_layer1_size = 128\n",
    "hidden_layer2_size = 64\n",
    "num_classes = 10\n",
    "\n",
    "# Initialize weights\n",
    "w1 = np.random.uniform(size=(input_size, hidden_layer1_size)) \n",
    "w2 = np.random.uniform(size=(hidden_layer1_size, hidden_layer2_size))\n",
    "w3 = np.random.uniform(size=(hidden_layer2_size, num_classes))\n",
    "\n",
    "# Initialize biases \n",
    "b1 = np.zeros(hidden_layer1_size)\n",
    "b2 = np.zeros(hidden_layer2_size)\n",
    "b3 = np.zeros(num_classes)\n"
   ]
  },
  {
   "cell_type": "markdown",
   "id": "a79c8bcc",
   "metadata": {},
   "source": [
    "# Step 4 Feed Forward: In this step, you need to:\n",
    "(a) define a function named feed_forward. Given an input x, it should output the sigmoid of\n",
    "wx+b where w and b indicates the weights and bias defined in step 2."
   ]
  },
  {
   "cell_type": "code",
   "execution_count": 6,
   "id": "c588d660",
   "metadata": {},
   "outputs": [],
   "source": [
    "import numpy as np\n",
    "\n",
    "def feed_forward(x, w1, b1, w2, b2, w3, b3):\n",
    "\n",
    "    # Hidden layer 1\n",
    "    z1 = x.dot(w1) + b1 \n",
    "    a1 = sigmoid(z1)\n",
    "    \n",
    "    # Hidden layer 2\n",
    "    z2 = a1.dot(w2) + b2\n",
    "    a2 = sigmoid(z2)\n",
    "    \n",
    "    # Output layer\n",
    "    z3 = a2.dot(w3) + b3\n",
    "    y = softmax(z3)\n",
    "    \n",
    "    return y"
   ]
  },
  {
   "cell_type": "markdown",
   "id": "3542be8f",
   "metadata": {},
   "source": [
    "# Step 5 Back Propagation: In this step, you need to implement the back\n",
    "propagation:\n",
    "(a) You need to compute the loss for the output layer first. Here, we use categorical cross\n",
    "entropy loss function given below for multi-class classification problem. (5 pts) Note, to\n",
    "achieve this, you need to first encode the categorical labels as numerical values using\n",
    "one-hot encoding finished in step 2. (b) Calculate the gradients for the weights and bias for each layer. Use the chain rule to\n",
    "compute gradients for previous layers. (10 pts)"
   ]
  },
  {
   "cell_type": "code",
   "execution_count": 12,
   "id": "78b8efa8",
   "metadata": {},
   "outputs": [],
   "source": [
    "import numpy as np\n",
    "\n",
    "def compute_loss(y_true, y_pred):\n",
    "\n",
    "    # One-hot encode y_true\n",
    "    y_true = np.eye(num_classes)[y_true]\n",
    "    \n",
    "    # Compute cross-entropy loss \n",
    "    loss = -np.sum(y_true * np.log(y_pred))\n",
    "    \n",
    "    return loss"
   ]
  },
  {
   "cell_type": "code",
   "execution_count": 13,
   "id": "b8b36a02",
   "metadata": {},
   "outputs": [],
   "source": [
    "# (a) Categorical cross-entropy loss\n",
    "def cross_entropy_loss(y_true, y_pred):\n",
    "  loss = -np.sum(y_true * np.log(y_pred))\n",
    "  return loss\n",
    "\n",
    "# (b) Compute gradients\n",
    "def backprop(x, y_true, W1, b1, W2, b2, W3, b3):\n",
    "\n",
    "  # feedforward\n",
    "  y_pred = feed_forward(x, W1, b1, W2, b2, W3, b3)\n",
    "  \n",
    "  # gradients\n",
    "  dL_dy = y_pred - y_true # for output layer\n",
    "  \n",
    "  dL_dW3 = a2.T.dot(dL_dy) \n",
    "  dL_db3 = np.sum(dL_dy, axis=0)\n",
    "  \n",
    "  dL_da2 = dL_dy.dot(W3.T)\n",
    "  dL_dz2 = dL_da2 * sigmoid_deriv(z2)\n",
    "  \n",
    "  dL_dW2 = a1.T.dot(dL_dz2)\n",
    "  dL_db2 = np.sum(dL_dz2, axis=0)\n",
    "\n",
    "  dL_da1 = dL_dz2.dot(W2.T) \n",
    "  dL_dz1 = dL_da1 * sigmoid_deriv(z1)\n",
    "\n",
    "  dL_dW1 = x.T.dot(dL_dz1)\n",
    "  dL_db1 = np.sum(dL_dz1, axis=0)\n",
    "\n",
    "  return dL_dW1, dL_db1, dL_dW2, dL_db2, dL_dW3, dL_db3"
   ]
  },
  {
   "cell_type": "markdown",
   "id": "989b1273",
   "metadata": {},
   "source": [
    "# Step 6 Model Training: In this step, you need to:\n",
    "(a) Use mini-batch gradient descent to update the parameters including weights and bias.\n",
    "Notice that a complete training round consists of a feed forward process, back\n",
    "propagation and parameter update. Define the batch size = 128 and epoch = 100."
   ]
  },
  {
   "cell_type": "code",
   "execution_count": 9,
   "id": "cf0750db",
   "metadata": {},
   "outputs": [],
   "source": [
    "# Train for 100 epochs with batch size 128\n",
    "for epoch in range(100):\n",
    "  X_train = []\n",
    "  for i in range(0, len(X_train), 128):\n",
    "    batch_X = X_train[i:i+128]\n",
    "    batch_y = y_train[i:i+128]\n",
    "\n",
    "    # Feedforward\n",
    "    y_pred = feed_forward(batch_X, W1, b1, W2, b2, W3, b3)\n",
    "    \n",
    "    # Backprop\n",
    "    dL_dW1, dL_db1, dL_dW2, dL_db2, dL_dW3, dL_db3 = backprop(batch_X, batch_y, W1, b1, W2, b2, W3, b3)\n",
    "    \n",
    "    # Update weights & biases\n",
    "    W1 -= learning_rate * dL_dW1\n",
    "    b1 -= learning_rate * dL_db1\n",
    "    W2 -= learning_rate * dL_dW2 \n",
    "    b2 -= learning_rate * dL_db2\n",
    "    W3 -= learning_rate * dL_dW3\n",
    "    b3 -= learning_rate * dL_db3"
   ]
  },
  {
   "cell_type": "markdown",
   "id": "30e9e3bf",
   "metadata": {},
   "source": [
    "# Step 7 Model Evaluation: In this step, you need to:\n",
    "(a) Use your trained neural network to predict the labels of the test dataset and compute\n",
    "the accuracy on the test dataset. (5 pts)\n",
    "Remark: if you correctly execute every step above, you will probably get a result around\n",
    "90%.\n",
    "(b) Plot some of the misclassified images with their predicted and true labels. (5 pts) This\n",
    "probably can give you some insights into why these images are misclassified."
   ]
  },
  {
   "cell_type": "code",
   "execution_count": 20,
   "id": "e56fc4c4",
   "metadata": {},
   "outputs": [
    {
     "ename": "AttributeError",
     "evalue": "'list' object has no attribute 'dot'",
     "output_type": "error",
     "traceback": [
      "\u001b[0;31m---------------------------------------------------------------------------\u001b[0m",
      "\u001b[0;31mAttributeError\u001b[0m                            Traceback (most recent call last)",
      "Cell \u001b[0;32mIn[20], line 17\u001b[0m\n\u001b[1;32m     14\u001b[0m W3 \u001b[38;5;241m=\u001b[39m np\u001b[38;5;241m.\u001b[39mrandom\u001b[38;5;241m.\u001b[39mrandn(hidden_dim2, output_dim) \n\u001b[1;32m     15\u001b[0m b3 \u001b[38;5;241m=\u001b[39m np\u001b[38;5;241m.\u001b[39mrandom\u001b[38;5;241m.\u001b[39mrandn(output_dim)\n\u001b[0;32m---> 17\u001b[0m y_pred \u001b[38;5;241m=\u001b[39m \u001b[43mfeed_forward\u001b[49m\u001b[43m(\u001b[49m\u001b[43mX_test\u001b[49m\u001b[43m,\u001b[49m\u001b[43m \u001b[49m\u001b[43mW1\u001b[49m\u001b[43m,\u001b[49m\u001b[43m \u001b[49m\u001b[43mb1\u001b[49m\u001b[43m,\u001b[49m\u001b[43m \u001b[49m\u001b[43mW2\u001b[49m\u001b[43m,\u001b[49m\u001b[43m \u001b[49m\u001b[43mb2\u001b[49m\u001b[43m,\u001b[49m\u001b[43m \u001b[49m\u001b[43mW3\u001b[49m\u001b[43m,\u001b[49m\u001b[43m \u001b[49m\u001b[43mb3\u001b[49m\u001b[43m)\u001b[49m\n\u001b[1;32m     18\u001b[0m y_pred_labels \u001b[38;5;241m=\u001b[39m np\u001b[38;5;241m.\u001b[39margmax(y_pred, axis\u001b[38;5;241m=\u001b[39m\u001b[38;5;241m1\u001b[39m)\n\u001b[1;32m     19\u001b[0m y_true_labels \u001b[38;5;241m=\u001b[39m np\u001b[38;5;241m.\u001b[39margmax(y_test, axis\u001b[38;5;241m=\u001b[39m\u001b[38;5;241m1\u001b[39m)\n",
      "Cell \u001b[0;32mIn[6], line 6\u001b[0m, in \u001b[0;36mfeed_forward\u001b[0;34m(x, w1, b1, w2, b2, w3, b3)\u001b[0m\n\u001b[1;32m      3\u001b[0m \u001b[38;5;28;01mdef\u001b[39;00m \u001b[38;5;21mfeed_forward\u001b[39m(x, w1, b1, w2, b2, w3, b3):\n\u001b[1;32m      4\u001b[0m \n\u001b[1;32m      5\u001b[0m     \u001b[38;5;66;03m# Hidden layer 1\u001b[39;00m\n\u001b[0;32m----> 6\u001b[0m     z1 \u001b[38;5;241m=\u001b[39m \u001b[43mx\u001b[49m\u001b[38;5;241;43m.\u001b[39;49m\u001b[43mdot\u001b[49m(w1) \u001b[38;5;241m+\u001b[39m b1 \n\u001b[1;32m      7\u001b[0m     a1 \u001b[38;5;241m=\u001b[39m sigmoid(z1)\n\u001b[1;32m      9\u001b[0m     \u001b[38;5;66;03m# Hidden layer 2\u001b[39;00m\n",
      "\u001b[0;31mAttributeError\u001b[0m: 'list' object has no attribute 'dot'"
     ]
    }
   ],
   "source": [
    "input_dim = 784\n",
    "hidden_dim1 = 128\n",
    "hidden_dim2 = 64\n",
    "output_dim = 695\n",
    "\n",
    "# Step 3 - Initialize network parameters\n",
    "\n",
    "W1 = np.random.randn(input_dim, hidden_dim1)\n",
    "b1 = np.random.randn(hidden_dim1) \n",
    "\n",
    "W2 = np.random.randn(hidden_dim1, hidden_dim2)\n",
    "b2 = np.random.randn(hidden_dim2)\n",
    "\n",
    "W3 = np.random.randn(hidden_dim2, output_dim) \n",
    "b3 = np.random.randn(output_dim)\n",
    "\n",
    "y_pred = feed_forward(X_test, W1, b1, W2, b2, W3, b3)\n",
    "y_pred_labels = np.argmax(y_pred, axis=1)\n",
    "y_true_labels = np.argmax(y_test, axis=1)\n",
    "accuracy = np.mean(y_pred_labels == y_true_labels)\n",
    "print('Test accuracy:', accuracy)\n",
    "\n",
    "# (b) Plot misclassified examples\n",
    "misclassified_idx = np.where(y_pred_labels != y_true_labels)[0]\n",
    "num_plots = 25 \n",
    "fig, axs = plt.subplots(nrows=5, ncols=5, figsize=(10,10))\n",
    "for i, idx in enumerate(misclassified_idx[:num_plots]):\n",
    "    img = X_test[idx].reshape(28,28)\n",
    "    ax = axs[i//5, i%5] \n",
    "    ax.imshow(img, cmap='gray')\n",
    "    ax.set_title(f\"True: {y_true_labels[idx]}\\nPred: {y_pred_labels[idx]}\")\n",
    "    ax.axis('off') \n",
    "plt.tight_layout()\n",
    "plt.show()"
   ]
  },
  {
   "cell_type": "code",
   "execution_count": null,
   "id": "2638150c",
   "metadata": {},
   "outputs": [],
   "source": []
  }
 ],
 "metadata": {
  "kernelspec": {
   "display_name": "Python 3 (ipykernel)",
   "language": "python",
   "name": "python3"
  },
  "language_info": {
   "codemirror_mode": {
    "name": "ipython",
    "version": 3
   },
   "file_extension": ".py",
   "mimetype": "text/x-python",
   "name": "python",
   "nbconvert_exporter": "python",
   "pygments_lexer": "ipython3",
   "version": "3.10.9"
  }
 },
 "nbformat": 4,
 "nbformat_minor": 5
}
