{
  "nbformat": 4,
  "nbformat_minor": 0,
  "metadata": {
    "colab": {
      "provenance": []
    },
    "kernelspec": {
      "name": "python3",
      "display_name": "Python 3"
    },
    "language_info": {
      "name": "python"
    }
  },
  "cells": [
    {
      "cell_type": "markdown",
      "source": [
        "# PART 1:"
      ],
      "metadata": {
        "id": "THdBHBEYomxu"
      }
    },
    {
      "cell_type": "markdown",
      "source": [
        "## 1. What are the advantages of a CNN over a fully connected deep neural network for image classification?"
      ],
      "metadata": {
        "id": "VVEQFkecpW8n"
      }
    },
    {
      "cell_type": "markdown",
      "source": [
        "Some key advantages of using a CNN over a fully connected network for image classification include:\n",
        "Parameter efficiency - By leveraging convolution layers, CNNs can extract features from images using far fewer parameters compared to fully connected layers. This makes them more efficient.\n",
        "Translational invariance - CNNs can detect features regardless of their location in the image, thanks to pooling layers. This makes them well-suited for image tasks.\n",
        "Ability to preserve spatial information - Convolutional layers preserve the spatial relationship between pixels, which is important for image tasks. Fully connected networks lose this spatial information."
      ],
      "metadata": {
        "id": "O2d8-t10pVFR"
      }
    },
    {
      "cell_type": "markdown",
      "source": [
        "## 2. Why would you want to add a max pooling layer rather than a convolutional layer with the same stride?"
      ],
      "metadata": {
        "id": "GR7XmC0Vpgn3"
      }
    },
    {
      "cell_type": "markdown",
      "source": [
        "Using a max pooling layer instead of a convolutional layer with the same stride reduces computational complexity. Max pooling layers simply downsample the input, reducing dimensions and parameters in the network. Convolutional layers have to learn filters to apply to the input, which is more complex."
      ],
      "metadata": {
        "id": "Kr4aXJcLplNv"
      }
    },
    {
      "cell_type": "markdown",
      "source": [
        "## 3. When would you want to add a local response normalization layer?"
      ],
      "metadata": {
        "id": "aPy1iAWHpl3e"
      }
    },
    {
      "cell_type": "markdown",
      "source": [
        "Local response normalization layers can be useful when dealing with high frequency features in images. They help normalize activations and improve generalization by enforcing lateral inhibition between activated neurons. This can be helpful in early convolutional layers."
      ],
      "metadata": {
        "id": "BuU9950Mpl6B"
      }
    },
    {
      "cell_type": "markdown",
      "source": [
        "## 4. Test below CNN codes with MNIST data set and show the model accuracy.\n",
        "\n"
      ],
      "metadata": {
        "id": "T-021Fb3pl8b"
      }
    },
    {
      "cell_type": "code",
      "source": [
        "pip install np_utils"
      ],
      "metadata": {
        "colab": {
          "base_uri": "https://localhost:8080/"
        },
        "id": "1WfCvu2DcPhD",
        "outputId": "94954c11-b322-4957-ef1a-e917a8e1baa5"
      },
      "execution_count": null,
      "outputs": [
        {
          "output_type": "stream",
          "name": "stdout",
          "text": [
            "Requirement already satisfied: np_utils in /usr/local/lib/python3.10/dist-packages (0.6.0)\n",
            "Requirement already satisfied: numpy>=1.0 in /usr/local/lib/python3.10/dist-packages (from np_utils) (1.23.5)\n"
          ]
        }
      ]
    },
    {
      "cell_type": "code",
      "source": [
        "from keras.utils import to_categorical"
      ],
      "metadata": {
        "id": "8LWnJ2pDgExZ"
      },
      "execution_count": null,
      "outputs": []
    },
    {
      "cell_type": "code",
      "source": [
        "pip install keras"
      ],
      "metadata": {
        "colab": {
          "base_uri": "https://localhost:8080/"
        },
        "id": "Iu-29xg8iYoY",
        "outputId": "68456173-1c6c-4606-8785-e2240a35748a"
      },
      "execution_count": null,
      "outputs": [
        {
          "output_type": "stream",
          "name": "stdout",
          "text": [
            "Requirement already satisfied: keras in /usr/local/lib/python3.10/dist-packages (2.14.0)\n"
          ]
        }
      ]
    },
    {
      "cell_type": "code",
      "source": [
        "pip install tensorflow"
      ],
      "metadata": {
        "colab": {
          "base_uri": "https://localhost:8080/"
        },
        "id": "aV5LT_huickz",
        "outputId": "3fd3737c-1091-4c65-8992-16cd67bc7ce8"
      },
      "execution_count": null,
      "outputs": [
        {
          "output_type": "stream",
          "name": "stdout",
          "text": [
            "Requirement already satisfied: tensorflow in /usr/local/lib/python3.10/dist-packages (2.14.0)\n",
            "Requirement already satisfied: absl-py>=1.0.0 in /usr/local/lib/python3.10/dist-packages (from tensorflow) (1.4.0)\n",
            "Requirement already satisfied: astunparse>=1.6.0 in /usr/local/lib/python3.10/dist-packages (from tensorflow) (1.6.3)\n",
            "Requirement already satisfied: flatbuffers>=23.5.26 in /usr/local/lib/python3.10/dist-packages (from tensorflow) (23.5.26)\n",
            "Requirement already satisfied: gast!=0.5.0,!=0.5.1,!=0.5.2,>=0.2.1 in /usr/local/lib/python3.10/dist-packages (from tensorflow) (0.5.4)\n",
            "Requirement already satisfied: google-pasta>=0.1.1 in /usr/local/lib/python3.10/dist-packages (from tensorflow) (0.2.0)\n",
            "Requirement already satisfied: h5py>=2.9.0 in /usr/local/lib/python3.10/dist-packages (from tensorflow) (3.9.0)\n",
            "Requirement already satisfied: libclang>=13.0.0 in /usr/local/lib/python3.10/dist-packages (from tensorflow) (16.0.6)\n",
            "Requirement already satisfied: ml-dtypes==0.2.0 in /usr/local/lib/python3.10/dist-packages (from tensorflow) (0.2.0)\n",
            "Requirement already satisfied: numpy>=1.23.5 in /usr/local/lib/python3.10/dist-packages (from tensorflow) (1.23.5)\n",
            "Requirement already satisfied: opt-einsum>=2.3.2 in /usr/local/lib/python3.10/dist-packages (from tensorflow) (3.3.0)\n",
            "Requirement already satisfied: packaging in /usr/local/lib/python3.10/dist-packages (from tensorflow) (23.2)\n",
            "Requirement already satisfied: protobuf!=4.21.0,!=4.21.1,!=4.21.2,!=4.21.3,!=4.21.4,!=4.21.5,<5.0.0dev,>=3.20.3 in /usr/local/lib/python3.10/dist-packages (from tensorflow) (3.20.3)\n",
            "Requirement already satisfied: setuptools in /usr/local/lib/python3.10/dist-packages (from tensorflow) (67.7.2)\n",
            "Requirement already satisfied: six>=1.12.0 in /usr/local/lib/python3.10/dist-packages (from tensorflow) (1.16.0)\n",
            "Requirement already satisfied: termcolor>=1.1.0 in /usr/local/lib/python3.10/dist-packages (from tensorflow) (2.3.0)\n",
            "Requirement already satisfied: typing-extensions>=3.6.6 in /usr/local/lib/python3.10/dist-packages (from tensorflow) (4.5.0)\n",
            "Requirement already satisfied: wrapt<1.15,>=1.11.0 in /usr/local/lib/python3.10/dist-packages (from tensorflow) (1.14.1)\n",
            "Requirement already satisfied: tensorflow-io-gcs-filesystem>=0.23.1 in /usr/local/lib/python3.10/dist-packages (from tensorflow) (0.34.0)\n",
            "Requirement already satisfied: grpcio<2.0,>=1.24.3 in /usr/local/lib/python3.10/dist-packages (from tensorflow) (1.59.0)\n",
            "Requirement already satisfied: tensorboard<2.15,>=2.14 in /usr/local/lib/python3.10/dist-packages (from tensorflow) (2.14.1)\n",
            "Requirement already satisfied: tensorflow-estimator<2.15,>=2.14.0 in /usr/local/lib/python3.10/dist-packages (from tensorflow) (2.14.0)\n",
            "Requirement already satisfied: keras<2.15,>=2.14.0 in /usr/local/lib/python3.10/dist-packages (from tensorflow) (2.14.0)\n",
            "Requirement already satisfied: wheel<1.0,>=0.23.0 in /usr/local/lib/python3.10/dist-packages (from astunparse>=1.6.0->tensorflow) (0.41.2)\n",
            "Requirement already satisfied: google-auth<3,>=1.6.3 in /usr/local/lib/python3.10/dist-packages (from tensorboard<2.15,>=2.14->tensorflow) (2.17.3)\n",
            "Requirement already satisfied: google-auth-oauthlib<1.1,>=0.5 in /usr/local/lib/python3.10/dist-packages (from tensorboard<2.15,>=2.14->tensorflow) (1.0.0)\n",
            "Requirement already satisfied: markdown>=2.6.8 in /usr/local/lib/python3.10/dist-packages (from tensorboard<2.15,>=2.14->tensorflow) (3.5)\n",
            "Requirement already satisfied: requests<3,>=2.21.0 in /usr/local/lib/python3.10/dist-packages (from tensorboard<2.15,>=2.14->tensorflow) (2.31.0)\n",
            "Requirement already satisfied: tensorboard-data-server<0.8.0,>=0.7.0 in /usr/local/lib/python3.10/dist-packages (from tensorboard<2.15,>=2.14->tensorflow) (0.7.2)\n",
            "Requirement already satisfied: werkzeug>=1.0.1 in /usr/local/lib/python3.10/dist-packages (from tensorboard<2.15,>=2.14->tensorflow) (3.0.1)\n",
            "Requirement already satisfied: cachetools<6.0,>=2.0.0 in /usr/local/lib/python3.10/dist-packages (from google-auth<3,>=1.6.3->tensorboard<2.15,>=2.14->tensorflow) (5.3.2)\n",
            "Requirement already satisfied: pyasn1-modules>=0.2.1 in /usr/local/lib/python3.10/dist-packages (from google-auth<3,>=1.6.3->tensorboard<2.15,>=2.14->tensorflow) (0.3.0)\n",
            "Requirement already satisfied: rsa<5,>=3.1.4 in /usr/local/lib/python3.10/dist-packages (from google-auth<3,>=1.6.3->tensorboard<2.15,>=2.14->tensorflow) (4.9)\n",
            "Requirement already satisfied: requests-oauthlib>=0.7.0 in /usr/local/lib/python3.10/dist-packages (from google-auth-oauthlib<1.1,>=0.5->tensorboard<2.15,>=2.14->tensorflow) (1.3.1)\n",
            "Requirement already satisfied: charset-normalizer<4,>=2 in /usr/local/lib/python3.10/dist-packages (from requests<3,>=2.21.0->tensorboard<2.15,>=2.14->tensorflow) (3.3.1)\n",
            "Requirement already satisfied: idna<4,>=2.5 in /usr/local/lib/python3.10/dist-packages (from requests<3,>=2.21.0->tensorboard<2.15,>=2.14->tensorflow) (3.4)\n",
            "Requirement already satisfied: urllib3<3,>=1.21.1 in /usr/local/lib/python3.10/dist-packages (from requests<3,>=2.21.0->tensorboard<2.15,>=2.14->tensorflow) (2.0.7)\n",
            "Requirement already satisfied: certifi>=2017.4.17 in /usr/local/lib/python3.10/dist-packages (from requests<3,>=2.21.0->tensorboard<2.15,>=2.14->tensorflow) (2023.7.22)\n",
            "Requirement already satisfied: MarkupSafe>=2.1.1 in /usr/local/lib/python3.10/dist-packages (from werkzeug>=1.0.1->tensorboard<2.15,>=2.14->tensorflow) (2.1.3)\n",
            "Requirement already satisfied: pyasn1<0.6.0,>=0.4.6 in /usr/local/lib/python3.10/dist-packages (from pyasn1-modules>=0.2.1->google-auth<3,>=1.6.3->tensorboard<2.15,>=2.14->tensorflow) (0.5.0)\n",
            "Requirement already satisfied: oauthlib>=3.0.0 in /usr/local/lib/python3.10/dist-packages (from requests-oauthlib>=0.7.0->google-auth-oauthlib<1.1,>=0.5->tensorboard<2.15,>=2.14->tensorflow) (3.2.2)\n"
          ]
        }
      ]
    },
    {
      "cell_type": "code",
      "source": [
        "from tensorflow.keras.utils import to_categorical"
      ],
      "metadata": {
        "id": "2qGcLQkPgSmV"
      },
      "execution_count": null,
      "outputs": []
    },
    {
      "cell_type": "code",
      "source": [
        "from keras.src.utils.np_utils import to_categorical"
      ],
      "metadata": {
        "id": "drGDKZuQgkPc"
      },
      "execution_count": null,
      "outputs": []
    },
    {
      "cell_type": "code",
      "execution_count": null,
      "metadata": {
        "colab": {
          "base_uri": "https://localhost:8080/",
          "height": 1000
        },
        "id": "RlHwCtU4bKrh",
        "outputId": "47bbb8e1-bada-4012-846b-f9cac47bc2e8"
      },
      "outputs": [
        {
          "output_type": "stream",
          "name": "stdout",
          "text": [
            "X_train original shape (60000, 28, 28)\n",
            "y_train original shape (60000,)\n",
            "X_test original shape (10000, 28, 28)\n",
            "y_test original shape (10000,)\n",
            "Model: \"sequential_6\"\n",
            "_________________________________________________________________\n",
            " Layer (type)                Output Shape              Param #   \n",
            "=================================================================\n",
            " conv2d_24 (Conv2D)          (None, 26, 26, 32)        320       \n",
            "                                                                 \n",
            " activation_36 (Activation)  (None, 26, 26, 32)        0         \n",
            "                                                                 \n",
            " conv2d_25 (Conv2D)          (None, 24, 24, 32)        9248      \n",
            "                                                                 \n",
            " activation_37 (Activation)  (None, 24, 24, 32)        0         \n",
            "                                                                 \n",
            " max_pooling2d_12 (MaxPooli  (None, 12, 12, 32)        0         \n",
            " ng2D)                                                           \n",
            "                                                                 \n",
            " conv2d_26 (Conv2D)          (None, 10, 10, 64)        18496     \n",
            "                                                                 \n",
            " activation_38 (Activation)  (None, 10, 10, 64)        0         \n",
            "                                                                 \n",
            " conv2d_27 (Conv2D)          (None, 8, 8, 64)          36928     \n",
            "                                                                 \n",
            " activation_39 (Activation)  (None, 8, 8, 64)          0         \n",
            "                                                                 \n",
            " max_pooling2d_13 (MaxPooli  (None, 4, 4, 64)          0         \n",
            " ng2D)                                                           \n",
            "                                                                 \n",
            " flatten_6 (Flatten)         (None, 1024)              0         \n",
            "                                                                 \n",
            " dense_12 (Dense)            (None, 512)               524800    \n",
            "                                                                 \n",
            " activation_40 (Activation)  (None, 512)               0         \n",
            "                                                                 \n",
            " dropout_14 (Dropout)        (None, 512)               0         \n",
            "                                                                 \n",
            " dense_13 (Dense)            (None, 10)                5130      \n",
            "                                                                 \n",
            " activation_41 (Activation)  (None, 10)                0         \n",
            "                                                                 \n",
            "=================================================================\n",
            "Total params: 594922 (2.27 MB)\n",
            "Trainable params: 594922 (2.27 MB)\n",
            "Non-trainable params: 0 (0.00 Byte)\n",
            "_________________________________________________________________\n",
            "Epoch 1/5\n"
          ]
        },
        {
          "output_type": "stream",
          "name": "stderr",
          "text": [
            "<ipython-input-27-0b814fd985a2>:162: UserWarning: `Model.fit_generator` is deprecated and will be removed in a future version. Please use `Model.fit`, which supports generators.\n",
            "  model.fit_generator(train_generator, steps_per_epoch=60000//64, epochs=5,\n"
          ]
        },
        {
          "output_type": "stream",
          "name": "stdout",
          "text": [
            "937/937 [==============================] - 148s 156ms/step - loss: 0.2047 - accuracy: 0.9347 - val_loss: 0.0336 - val_accuracy: 0.9894\n",
            "Epoch 2/5\n",
            "937/937 [==============================] - 143s 153ms/step - loss: 0.0649 - accuracy: 0.9802 - val_loss: 0.0228 - val_accuracy: 0.9927\n",
            "Epoch 3/5\n",
            "937/937 [==============================] - 147s 157ms/step - loss: 0.0492 - accuracy: 0.9851 - val_loss: 0.0188 - val_accuracy: 0.9938\n",
            "Epoch 4/5\n",
            "937/937 [==============================] - 143s 153ms/step - loss: 0.0407 - accuracy: 0.9876 - val_loss: 0.0183 - val_accuracy: 0.9938\n",
            "Epoch 5/5\n",
            "937/937 [==============================] - 149s 159ms/step - loss: 0.0352 - accuracy: 0.9892 - val_loss: 0.0196 - val_accuracy: 0.9932\n",
            "313/313 [==============================] - 6s 18ms/step - loss: 0.0196 - accuracy: 0.9932\n",
            "\n",
            "Test accuracy:  0.9932000041007996\n",
            "313/313 [==============================] - 6s 17ms/step\n"
          ]
        },
        {
          "output_type": "display_data",
          "data": {
            "text/plain": [
              "<Figure size 640x480 with 1 Axes>"
            ],
            "image/png": "[encoded data removed]"
          },
          "metadata": {}
        }
      ],
      "source": [
        "import numpy as np\n",
        "import pandas as pd\n",
        "import matplotlib.pyplot as plt\n",
        "get_ipython().magic(u'matplotlib inline')\n",
        "\n",
        "\n",
        "# In[2]:\n",
        "\n",
        "\n",
        "import tensorflow as tf\n",
        "from keras.layers import Input, Dense\n",
        "from keras.models import Model\n",
        "from keras.layers import LSTM\n",
        "\n",
        "\n",
        "# In[3]:\n",
        "\n",
        "\n",
        "\n",
        "\n",
        "\n",
        "\n",
        "# In[4]:\n",
        "\n",
        "\n",
        "from keras.datasets import mnist\n",
        "from keras.models import Sequential\n",
        "from keras.layers import Dense, Dropout, Activation, Flatten\n",
        "from keras.optimizers import Adam\n",
        "from tensorflow.keras.layers import BatchNormalization\n",
        "#from keras.utils import np_utils\n",
        "from keras import utils\n",
        "from keras.layers import Conv2D, MaxPooling2D, ZeroPadding2D, GlobalAveragePooling2D\n",
        "#from keras.layers.advanced_activations import LeakyReLU\n",
        "from keras.layers import LeakyReLU\n",
        "from keras.preprocessing.image import ImageDataGenerator\n",
        "\n",
        "np.random.seed(25)\n",
        "\n",
        "\n",
        "# In[5]:\n",
        "\n",
        "\n",
        "(X_train, y_train), (X_test, y_test) = mnist.load_data()\n",
        "print(\"X_train original shape\", X_train.shape)\n",
        "print(\"y_train original shape\", y_train.shape)\n",
        "print(\"X_test original shape\", X_test.shape)\n",
        "print(\"y_test original shape\", y_test.shape)\n",
        "\n",
        "\n",
        "# In[6]:\n",
        "\n",
        "\n",
        "plt.imshow(X_train[0], cmap='gray')\n",
        "plt.title('Class '+ str(y_train[0]))\n",
        "\n",
        "\n",
        "# In[7]:\n",
        "\n",
        "\n",
        "X_train = X_train.reshape(X_train.shape[0], 28, 28, 1)\n",
        "X_test = X_test.reshape(X_test.shape[0], 28, 28, 1)\n",
        "\n",
        "X_train = X_train.astype('float32')\n",
        "X_test = X_test.astype('float32')\n",
        "\n",
        "X_train/=255\n",
        "X_test/=255\n",
        "\n",
        "X_train.shape\n",
        "\n",
        "\n",
        "# In[8]:\n",
        "\n",
        "\n",
        "number_of_classes = 10\n",
        "\n",
        "Y_train = utils.to_categorical(y_train, number_of_classes)\n",
        "Y_test = utils.to_categorical(y_test, number_of_classes)\n",
        "\n",
        "y_train[0], Y_train[0]\n",
        "\n",
        "\n",
        "# In[9]:\n",
        "\n",
        "\n",
        "# Three steps to Convolution\n",
        "# 1. Convolution\n",
        "# 2. Activation\n",
        "# 3. Pooling\n",
        "# Repeat Steps 1,2,3 for adding more hidden layers\n",
        "\n",
        "# 4. After that make a fully connected network\n",
        "# This fully connected network gives ability to the CNN\n",
        "# to classify the samples\n",
        "\n",
        "model = Sequential()\n",
        "\n",
        "model.add(Conv2D(32, (3, 3), input_shape=(28,28,1)))\n",
        "model.add(Activation('relu'))\n",
        "BatchNormalization(axis=-1)\n",
        "model.add(Conv2D(32, (3, 3)))\n",
        "model.add(Activation('relu'))\n",
        "model.add(MaxPooling2D(pool_size=(2,2)))\n",
        "\n",
        "BatchNormalization(axis=-1)\n",
        "model.add(Conv2D(64,(3, 3)))\n",
        "model.add(Activation('relu'))\n",
        "BatchNormalization(axis=-1)\n",
        "model.add(Conv2D(64, (3, 3)))\n",
        "model.add(Activation('relu'))\n",
        "model.add(MaxPooling2D(pool_size=(2,2)))\n",
        "\n",
        "model.add(Flatten())\n",
        "# Fully connected layer\n",
        "\n",
        "BatchNormalization()\n",
        "model.add(Dense(512))\n",
        "model.add(Activation('relu'))\n",
        "BatchNormalization()\n",
        "model.add(Dropout(0.2))\n",
        "model.add(Dense(10))\n",
        "\n",
        "# model.add(Convolution2D(10,3,3, border_mode='same'))\n",
        "# model.add(GlobalAveragePooling2D())\n",
        "model.add(Activation('softmax'))\n",
        "\n",
        "\n",
        "# In[10]:\n",
        "\n",
        "\n",
        "model.summary()\n",
        "\n",
        "\n",
        "# In[11]:\n",
        "\n",
        "\n",
        "model.compile(loss='categorical_crossentropy', optimizer=Adam(), metrics=['accuracy'])\n",
        "\n",
        "\n",
        "# In[12]:\n",
        "\n",
        "\n",
        "gen = ImageDataGenerator(rotation_range=8, width_shift_range=0.08, shear_range=0.3,\n",
        " height_shift_range=0.08, zoom_range=0.08)\n",
        "\n",
        "test_gen = ImageDataGenerator()\n",
        "\n",
        "\n",
        "# In[13]:\n",
        "\n",
        "\n",
        "train_generator = gen.flow(X_train, Y_train, batch_size=64)\n",
        "test_generator = test_gen.flow(X_test, Y_test, batch_size=64)\n",
        "\n",
        "\n",
        "# In[ ]:\n",
        "\n",
        "\n",
        "# model.fit(X_train, Y_train, batch_size=128, nb_epoch=1, validation_data=(X_test, Y_test))\n",
        "\n",
        "model.fit_generator(train_generator, steps_per_epoch=60000//64, epochs=5,\n",
        " validation_data=test_generator, validation_steps=10000//64)\n",
        "\n",
        "\n",
        "# In[ ]:\n",
        "\n",
        "\n",
        "score = model.evaluate(X_test, Y_test)\n",
        "print()\n",
        "print('Test accuracy: ', score[1])\n",
        "\n",
        "\n",
        "# In[ ]:\n",
        "\n",
        "\n",
        "#predictions = model.predict_classes(X_test)\n",
        "predictions = model.predict(X_test)\n",
        "classes_x=np.argmax(predictions,axis=1)\n",
        "\n",
        "predictions = list(predictions)\n",
        "actuals = list(y_test)\n",
        "\n",
        "sub = pd.DataFrame({'Actual': actuals, 'Predictions': predictions})\n",
        "sub.to_csv('./output_cnn.csv', index=False)"
      ]
    },
    {
      "cell_type": "markdown",
      "source": [
        "## 5. Make comments on your results in 4."
      ],
      "metadata": {
        "id": "nEzIiyyip9ZA"
      }
    },
    {
      "cell_type": "markdown",
      "source": [
        "The CNN model achieves very good performance on the MNIST dataset. This simple CNN architecture of just 2 convolution + max pooling layers is able to efficiently extract features from the input images to classify the handwritten digits with high accuracy. Additional improvements could be made by tuning hyperparameters like number of filters, filter sizes, adding dropout, or more layers."
      ],
      "metadata": {
        "id": "Apciiu2fp8LP"
      }
    },
    {
      "cell_type": "markdown",
      "source": [
        "# PART 2:"
      ],
      "metadata": {
        "id": "abJbb_pboszv"
      }
    },
    {
      "cell_type": "markdown",
      "source": [
        "## 1. Use the below code to load the data set."
      ],
      "metadata": {
        "id": "eD28GoQsqZp7"
      }
    },
    {
      "cell_type": "code",
      "source": [
        "from keras.datasets import cifar10\n",
        "(x_train, y_train), (x_test, y_test) = cifar10.load_data()\n",
        "\n",
        "print(\"Train samples:\", x_train.shape, y_train.shape)\n",
        "print(\"Test samples:\", x_test.shape, y_test.shape)"
      ],
      "metadata": {
        "colab": {
          "base_uri": "https://localhost:8080/"
        },
        "id": "itF-lU4hfmAI",
        "outputId": "fefe23ad-548e-48bf-b0aa-8a493009f96d"
      },
      "execution_count": null,
      "outputs": [
        {
          "output_type": "stream",
          "name": "stdout",
          "text": [
            "Downloading data from https://www.cs.toronto.edu/~kriz/cifar-10-python.tar.gz\n",
            "170498071/170498071 [==============================] - 4s 0us/step\n",
            "Train samples: (50000, 32, 32, 3) (50000, 1)\n",
            "Test samples: (10000, 32, 32, 3) (10000, 1)\n"
          ]
        }
      ]
    },
    {
      "cell_type": "markdown",
      "source": [
        "## 2. Show the 10 classes"
      ],
      "metadata": {
        "id": "u0MOY-wlqftt"
      }
    },
    {
      "cell_type": "code",
      "source": [
        "NUM_CLASSES = 10\n",
        "cifar10_classes = [\"airplane\", \"automobile\", \"bird\", \"cat\", \"deer\",  \"dog\", \"frog\", \"horse\", \"ship\", \"truck\"]\n",
        "\n",
        "# show random images from train\n",
        "cols = 8\n",
        "rows = 2\n",
        "fig = plt.figure(figsize=(2 * cols - 1, 2.5 * rows - 1))\n",
        "for i in range(cols):\n",
        "  for j in range(rows):\n",
        "    random_index = np.random.randint(0, len(y_train))\n",
        "ax = fig.add_subplot(rows, cols, i * rows + j + 1)\n",
        "ax.grid('off')\n",
        "ax.axis('off')\n",
        "ax.imshow(x_train[random_index, :])\n",
        "ax.set_title(cifar10_classes[y_train[random_index, 0]])\n",
        "plt.show()"
      ],
      "metadata": {
        "colab": {
          "base_uri": "https://localhost:8080/",
          "height": 183
        },
        "id": "LD-GobojqY5j",
        "outputId": "e8c47eda-c587-4ebc-d81c-cc051ebe7f69"
      },
      "execution_count": null,
      "outputs": [
        {
          "output_type": "display_data",
          "data": {
            "text/plain": [
              "<Figure size 1500x400 with 1 Axes>"
            ],
            "image/png": "[encoded data removed]"
          },
          "metadata": {}
        }
      ]
    },
    {
      "cell_type": "markdown",
      "source": [
        "## 3. Define a CNN architecture and train your own model by playing with the network setup: like, performs convolution, performs 2D max pooling, changing activation function from ReLU to LeakyReLU, adding dropout etc.\n",
        "\n"
      ],
      "metadata": {
        "id": "UJUQI75rqois"
      }
    },
    {
      "cell_type": "code",
      "source": [
        "# import necessary building blocks\n",
        "import keras\n",
        "from keras.models import Sequential\n",
        "from keras.layers import Conv2D, MaxPooling2D, Flatten, Dense, Activation, Dropout\n",
        "from keras.layers import LeakyReLU\n",
        "\n",
        "\n",
        "model = Sequential()\n",
        "\n",
        "model.add(Conv2D(32, (3, 3), padding='same', input_shape=x_train.shape[1:]))\n",
        "model.add(Activation(LeakyReLU(alpha=0.1)))\n",
        "model.add(Conv2D(32, (3, 3)))\n",
        "model.add(Activation(LeakyReLU(alpha=0.1)))\n",
        "model.add(MaxPooling2D(pool_size=(2, 2)))\n",
        "model.add(Dropout(0.25))\n",
        "\n",
        "model.add(Conv2D(64, (3, 3), padding='same'))\n",
        "model.add(Activation(LeakyReLU(alpha=0.1)))\n",
        "model.add(Conv2D(64, (3, 3)))\n",
        "model.add(Activation(LeakyReLU(alpha=0.1)))\n",
        "model.add(MaxPooling2D(pool_size=(2, 2)))\n",
        "model.add(Dropout(0.25))\n",
        "\n",
        "model.add(Flatten())\n",
        "model.add(Dense(512))\n",
        "model.add(Activation(LeakyReLU(alpha=0.1)))\n",
        "model.add(Dropout(0.5))\n",
        "model.add(Dense(NUM_CLASSES))\n",
        "model.add(Activation('softmax'))\n",
        "\n",
        "\n",
        "# Compile model\n",
        "model.compile(loss='categorical_crossentropy',\n",
        "              optimizer='adam',\n",
        "              metrics=['accuracy'])\n",
        "\n",
        "# One-hot encode labels\n",
        "y_train = keras.utils.to_categorical(y_train, NUM_CLASSES)\n",
        "y_test = keras.utils.to_categorical(y_test, NUM_CLASSES)\n",
        "\n",
        "# Train model\n",
        "model.fit(x_train, y_train,\n",
        "          batch_size=64,\n",
        "          epochs=10,\n",
        "          validation_data=(x_test, y_test))\n",
        "\n",
        "# Evaluate on test set\n",
        "test_loss, test_acc = model.evaluate(x_test, y_test)\n",
        "print('Test accuracy:', test_acc)"
      ],
      "metadata": {
        "colab": {
          "base_uri": "https://localhost:8080/"
        },
        "id": "6WVjIoyJrjv7",
        "outputId": "d8c1e1c1-e328-4c62-fd38-9eb080689c57"
      },
      "execution_count": null,
      "outputs": [
        {
          "output_type": "stream",
          "name": "stdout",
          "text": [
            "Epoch 1/10\n",
            "782/782 [==============================] - 218s 277ms/step - loss: 1.9098 - accuracy: 0.3912 - val_loss: 1.3012 - val_accuracy: 0.5435\n",
            "Epoch 2/10\n",
            "782/782 [==============================] - 207s 264ms/step - loss: 1.2721 - accuracy: 0.5508 - val_loss: 1.0329 - val_accuracy: 0.6403\n",
            "Epoch 3/10\n",
            "782/782 [==============================] - 206s 264ms/step - loss: 1.0901 - accuracy: 0.6169 - val_loss: 1.0374 - val_accuracy: 0.6436\n",
            "Epoch 4/10\n",
            "782/782 [==============================] - 211s 269ms/step - loss: 1.0042 - accuracy: 0.6499 - val_loss: 0.9260 - val_accuracy: 0.6781\n",
            "Epoch 5/10\n",
            "782/782 [==============================] - 208s 267ms/step - loss: 0.9364 - accuracy: 0.6731 - val_loss: 0.8508 - val_accuracy: 0.7108\n",
            "Epoch 6/10\n",
            "782/782 [==============================] - 209s 267ms/step - loss: 0.8882 - accuracy: 0.6923 - val_loss: 0.7882 - val_accuracy: 0.7228\n",
            "Epoch 7/10\n",
            "782/782 [==============================] - 207s 264ms/step - loss: 0.8502 - accuracy: 0.7028 - val_loss: 0.8798 - val_accuracy: 0.7096\n",
            "Epoch 8/10\n",
            "782/782 [==============================] - 208s 266ms/step - loss: 0.8324 - accuracy: 0.7110 - val_loss: 0.7371 - val_accuracy: 0.7455\n",
            "Epoch 9/10\n",
            "782/782 [==============================] - 206s 264ms/step - loss: 0.8120 - accuracy: 0.7189 - val_loss: 0.8033 - val_accuracy: 0.7182\n",
            "Epoch 10/10\n",
            "782/782 [==============================] - 208s 266ms/step - loss: 0.7920 - accuracy: 0.7258 - val_loss: 0.7687 - val_accuracy: 0.7376\n",
            "313/313 [==============================] - 12s 37ms/step - loss: 0.7687 - accuracy: 0.7376\n",
            "Test accuracy: 0.7376000285148621\n"
          ]
        }
      ]
    }
  ]
}